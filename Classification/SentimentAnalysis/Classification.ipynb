{
 "cells": [
  {
   "cell_type": "code",
   "execution_count": 1,
   "metadata": {
    "dotnet_interactive": {
     "language": "csharp"
    }
   },
   "outputs": [
    {
     "data": {
      "text/html": [
       "<div><div></div><div></div><div><strong>Installed Packages</strong><ul><li><span>Microsoft.ML, 2.0.1</span></li></ul></div></div>"
      ]
     },
     "metadata": {},
     "output_type": "display_data"
    }
   ],
   "source": [
    "#r \"nuget:Microsoft.ML\""
   ]
  },
  {
   "cell_type": "code",
   "execution_count": 2,
   "metadata": {
    "dotnet_interactive": {
     "language": "csharp"
    }
   },
   "outputs": [],
   "source": [
    "using System;\n",
    "using System.IO;\n",
    "using Microsoft.ML;\n",
    "using Microsoft.ML.Data;\n",
    "using static Microsoft.ML.DataOperationsCatalog;"
   ]
  },
  {
   "cell_type": "code",
   "execution_count": 3,
   "metadata": {
    "dotnet_interactive": {
     "language": "csharp"
    }
   },
   "outputs": [],
   "source": [
    "public class SentimentIssue\n",
    "{\n",
    "    [LoadColumn(0)]\n",
    "    public bool Label { get; set; }\n",
    "    [LoadColumn(2)]\n",
    "    public string Text { get; set; }\n",
    "}"
   ]
  },
  {
   "cell_type": "code",
   "execution_count": 4,
   "metadata": {
    "dotnet_interactive": {
     "language": "csharp"
    }
   },
   "outputs": [],
   "source": [
    "public class SentimentPrediction : SentimentIssue\n",
    "{\n",
    "    // ColumnName attribute is used to change the column name from\n",
    "    // its default value, which is the name of the field.\n",
    "    [ColumnName(\"PredictedLabel\")]\n",
    "    public bool Prediction { get; set; }\n",
    "\n",
    "    // No need to specify ColumnName attribute, because the field\n",
    "    // name \"Probability\" is the column name we want.\n",
    "    public float Probability { get; set; }\n",
    "\n",
    "    public float Score { get; set; }\n",
    "}"
   ]
  },
  {
   "cell_type": "code",
   "execution_count": 5,
   "metadata": {
    "dotnet_interactive": {
     "language": "csharp"
    }
   },
   "outputs": [],
   "source": [
    "var mlContext = new MLContext();"
   ]
  },
  {
   "cell_type": "code",
   "execution_count": 6,
   "metadata": {
    "dotnet_interactive": {
     "language": "csharp"
    }
   },
   "outputs": [],
   "source": [
    "IDataView dataView = mlContext.Data.LoadFromTextFile<SentimentIssue>(\"wikiDetoxAnnotated40kRows.tsv\", hasHeader: true);"
   ]
  },
  {
   "cell_type": "code",
   "execution_count": 7,
   "metadata": {
    "dotnet_interactive": {
     "language": "csharp"
    }
   },
   "outputs": [
    {
     "data": {
      "text/html": [
       "<table><thead><tr><th><i>index</i></th><th>Values</th></tr></thead><tbody><tr><td>0</td><td><div class=\"dni-plaintext\"><pre>KeyValuePair&lt;String,Object&gt;[]\r\n",
       "Label: False\r\n",
       "Text: &quot;  ==He is a Rapist!!!!!== Please edit the article to include this important fact. Thank You.  —&#160;Preceding unsigned comment added by   •   &quot;</pre></div></td></tr><tr><td>1</td><td><div class=\"dni-plaintext\"><pre>KeyValuePair&lt;String,Object&gt;[]\r\n",
       "Label: False\r\n",
       "Text: The other two films Hitch and Magnolia are also directly related to the community in question, and may be of interest to those who see those films.  So why not link to them?  </pre></div></td></tr><tr><td>2</td><td><div class=\"dni-plaintext\"><pre>KeyValuePair&lt;String,Object&gt;[]\r\n",
       "Label: False\r\n",
       "Text: == blocking people ==  how can i block lambs12 from my page and editing my stuff she&#39;s saying bad things she&#39;s my sister  </pre></div></td></tr><tr><td>3</td><td><div class=\"dni-plaintext\"><pre>KeyValuePair&lt;String,Object&gt;[]\r\n",
       "Label: True\r\n",
       "Text: == Are you a female????? ==  mootmootmootmootmootmootmootmootmootmoot</pre></div></td></tr><tr><td>4</td><td><div class=\"dni-plaintext\"><pre>KeyValuePair&lt;String,Object&gt;[]\r\n",
       "Label: False\r\n",
       "Text: :::::Good enough for me; thanks for the info. I&#39;ll check the Sheffield references later. -   </pre></div></td></tr><tr><td>5</td><td><div class=\"dni-plaintext\"><pre>KeyValuePair&lt;String,Object&gt;[]\r\n",
       "Label: False\r\n",
       "Text: == Motherjane concert location ==  Hi,  Motherjane, being a popular band, has headlined a lot of college rock festivals in India. But quoting the name of every college that they have performed is not quite right. So please refrain from adding the names of any more colleges/institutes. Thanks! —   </pre></div></td></tr><tr><td>6</td><td><div class=\"dni-plaintext\"><pre>KeyValuePair&lt;String,Object&gt;[]\r\n",
       "Label: False\r\n",
       "Text: == warning ==  don&#39;t vandalize   </pre></div></td></tr><tr><td>7</td><td><div class=\"dni-plaintext\"><pre>KeyValuePair&lt;String,Object&gt;[]\r\n",
       "Label: False\r\n",
       "Text: &quot; :There were reviews from critics in her song?   &quot;</pre></div></td></tr><tr><td>8</td><td><div class=\"dni-plaintext\"><pre>KeyValuePair&lt;String,Object&gt;[]\r\n",
       "Label: False\r\n",
       "Text: &quot;  Jack, is it a misrepresentation for you to write more than 500,000 nucleotide base pairs, or should you write 582 base pair.   Lets start watching &quot;&quot;RNA world&quot;&quot; page too.   &quot;</pre></div></td></tr><tr><td>9</td><td><div class=\"dni-plaintext\"><pre>KeyValuePair&lt;String,Object&gt;[]\r\n",
       "Label: False\r\n",
       "Text: &quot;:Thank you, I will use these tool responsibly.  (Editor Review)   &quot;</pre></div></td></tr></tbody></table><style>\r\n",
       ".dni-code-hint {\r\n",
       "    font-style: italic;\r\n",
       "    overflow: hidden;\r\n",
       "    white-space: nowrap;\r\n",
       "}\r\n",
       ".dni-treeview {\r\n",
       "    white-space: nowrap;\r\n",
       "}\r\n",
       ".dni-treeview td {\r\n",
       "    vertical-align: top;\r\n",
       "    text-align: start;\r\n",
       "}\r\n",
       "details.dni-treeview {\r\n",
       "    padding-left: 1em;\r\n",
       "}\r\n",
       "table td {\r\n",
       "    text-align: start;\r\n",
       "}\r\n",
       "table tr { \r\n",
       "    vertical-align: top; \r\n",
       "    margin: 0em 0px;\r\n",
       "}\r\n",
       "table tr td pre \r\n",
       "{ \r\n",
       "    vertical-align: top !important; \r\n",
       "    margin: 0em 0px !important;\r\n",
       "} \r\n",
       "table th {\r\n",
       "    text-align: start;\r\n",
       "}\r\n",
       "</style>"
      ]
     },
     "metadata": {},
     "output_type": "display_data"
    }
   ],
   "source": [
    "display(dataView.Preview(10).RowView);"
   ]
  },
  {
   "cell_type": "code",
   "execution_count": 8,
   "metadata": {
    "dotnet_interactive": {
     "language": "csharp"
    }
   },
   "outputs": [],
   "source": [
    "TrainTestData trainTestSplit = mlContext.Data.TrainTestSplit(dataView, testFraction: 0.2);\n",
    "IDataView trainingData = trainTestSplit.TrainSet;\n",
    "IDataView testData = trainTestSplit.TestSet;"
   ]
  },
  {
   "cell_type": "code",
   "execution_count": 9,
   "metadata": {
    "dotnet_interactive": {
     "language": "csharp"
    }
   },
   "outputs": [
    {
     "data": {
      "text/html": [
       "<table><thead><tr><th><i>index</i></th><th>Values</th></tr></thead><tbody><tr><td>0</td><td><div class=\"dni-plaintext\"><pre>KeyValuePair&lt;String,Object&gt;[]\r\n",
       "Label: False\r\n",
       "Text: &quot;  ==He is a Rapist!!!!!== Please edit the article to include this important fact. Thank You.  —&#160;Preceding unsigned comment added by   •   &quot;</pre></div></td></tr><tr><td>1</td><td><div class=\"dni-plaintext\"><pre>KeyValuePair&lt;String,Object&gt;[]\r\n",
       "Label: False\r\n",
       "Text: The other two films Hitch and Magnolia are also directly related to the community in question, and may be of interest to those who see those films.  So why not link to them?  </pre></div></td></tr><tr><td>2</td><td><div class=\"dni-plaintext\"><pre>KeyValuePair&lt;String,Object&gt;[]\r\n",
       "Label: False\r\n",
       "Text: == blocking people ==  how can i block lambs12 from my page and editing my stuff she&#39;s saying bad things she&#39;s my sister  </pre></div></td></tr><tr><td>3</td><td><div class=\"dni-plaintext\"><pre>KeyValuePair&lt;String,Object&gt;[]\r\n",
       "Label: True\r\n",
       "Text: == Are you a female????? ==  mootmootmootmootmootmootmootmootmootmoot</pre></div></td></tr><tr><td>4</td><td><div class=\"dni-plaintext\"><pre>KeyValuePair&lt;String,Object&gt;[]\r\n",
       "Label: False\r\n",
       "Text: :::::Good enough for me; thanks for the info. I&#39;ll check the Sheffield references later. -   </pre></div></td></tr><tr><td>5</td><td><div class=\"dni-plaintext\"><pre>KeyValuePair&lt;String,Object&gt;[]\r\n",
       "Label: False\r\n",
       "Text: &quot; :There were reviews from critics in her song?   &quot;</pre></div></td></tr><tr><td>6</td><td><div class=\"dni-plaintext\"><pre>KeyValuePair&lt;String,Object&gt;[]\r\n",
       "Label: False\r\n",
       "Text: &quot;  Jack, is it a misrepresentation for you to write more than 500,000 nucleotide base pairs, or should you write 582 base pair.   Lets start watching &quot;&quot;RNA world&quot;&quot; page too.   &quot;</pre></div></td></tr><tr><td>7</td><td><div class=\"dni-plaintext\"><pre>KeyValuePair&lt;String,Object&gt;[]\r\n",
       "Label: False\r\n",
       "Text: &quot;:Thank you, I will use these tool responsibly.  (Editor Review)   &quot;</pre></div></td></tr><tr><td>8</td><td><div class=\"dni-plaintext\"><pre>KeyValuePair&lt;String,Object&gt;[]\r\n",
       "Label: False\r\n",
       "Text: HELLO SITUSH ARE YOU THERE?? PEOPLE HAVE SOME QUESTIONS</pre></div></td></tr><tr><td>9</td><td><div class=\"dni-plaintext\"><pre>KeyValuePair&lt;String,Object&gt;[]\r\n",
       "Label: False\r\n",
       "Text: -FREE MYANMAR!!! STOP THE MILITARY REGIME!!!! PATS1 DOESN&#39;t CARE!!! HE ONLY CARES ABOUT FOOTBALL AND ORDER!!!!!!!!!!!!!!!!</pre></div></td></tr></tbody></table><style>\r\n",
       ".dni-code-hint {\r\n",
       "    font-style: italic;\r\n",
       "    overflow: hidden;\r\n",
       "    white-space: nowrap;\r\n",
       "}\r\n",
       ".dni-treeview {\r\n",
       "    white-space: nowrap;\r\n",
       "}\r\n",
       ".dni-treeview td {\r\n",
       "    vertical-align: top;\r\n",
       "    text-align: start;\r\n",
       "}\r\n",
       "details.dni-treeview {\r\n",
       "    padding-left: 1em;\r\n",
       "}\r\n",
       "table td {\r\n",
       "    text-align: start;\r\n",
       "}\r\n",
       "table tr { \r\n",
       "    vertical-align: top; \r\n",
       "    margin: 0em 0px;\r\n",
       "}\r\n",
       "table tr td pre \r\n",
       "{ \r\n",
       "    vertical-align: top !important; \r\n",
       "    margin: 0em 0px !important;\r\n",
       "} \r\n",
       "table th {\r\n",
       "    text-align: start;\r\n",
       "}\r\n",
       "</style>"
      ]
     },
     "metadata": {},
     "output_type": "display_data"
    }
   ],
   "source": [
    "display(trainingData.Preview(10).RowView);"
   ]
  },
  {
   "cell_type": "code",
   "execution_count": 10,
   "metadata": {
    "dotnet_interactive": {
     "language": "csharp"
    }
   },
   "outputs": [
    {
     "data": {
      "text/html": [
       "<table><thead><tr><th><i>index</i></th><th>Values</th></tr></thead><tbody><tr><td>0</td><td><div class=\"dni-plaintext\"><pre>KeyValuePair&lt;String,Object&gt;[]\r\n",
       "Label: False\r\n",
       "Text: == Motherjane concert location ==  Hi,  Motherjane, being a popular band, has headlined a lot of college rock festivals in India. But quoting the name of every college that they have performed is not quite right. So please refrain from adding the names of any more colleges/institutes. Thanks! —   </pre></div></td></tr><tr><td>1</td><td><div class=\"dni-plaintext\"><pre>KeyValuePair&lt;String,Object&gt;[]\r\n",
       "Label: False\r\n",
       "Text: == warning ==  don&#39;t vandalize   </pre></div></td></tr><tr><td>2</td><td><div class=\"dni-plaintext\"><pre>KeyValuePair&lt;String,Object&gt;[]\r\n",
       "Label: False\r\n",
       "Text: &quot;uranium&quot;&quot;] Inhaled Particles, vol. 2, pp. 819-38, at p. 836.&quot;</pre></div></td></tr><tr><td>3</td><td><div class=\"dni-plaintext\"><pre>KeyValuePair&lt;String,Object&gt;[]\r\n",
       "Label: False\r\n",
       "Text: Welcome  Hello and welcome to Wikipedia.  We appreciate encyclopedic contributions, but some of your recent contributions seem to be advertising or for promotional purposes.  Wikipedia does not allow advertising in articles.  For more information on this, see *Policy on neutral point of view *Guideline on spam *Guideline on external links *Guideline on conflict of interest If you still have questions, there is a new contributor&#39;s help page, or you can write {{helpme}} below this message along with a question and someone will be along to answer it shortly.  You may also find the following pages useful for a general introduction to Wikipedia. *The five pillars of Wikipedia *How to edit a page *Help pages *Tutorial *How to write a great article *Manual of Style I hope you enjoy editing Wikipedia!  Please sign your name on talk pages using four tildes (~~~~); this will automatically produce your name and the date. Feel free to write a note on the bottom of my talk page if you want to get in touch with me. Again, welcome!  </pre></div></td></tr><tr><td>4</td><td><div class=\"dni-plaintext\"><pre>KeyValuePair&lt;String,Object&gt;[]\r\n",
       "Label: False\r\n",
       "Text: racisim. Obviously it has failed.]]  </pre></div></td></tr><tr><td>5</td><td><div class=\"dni-plaintext\"><pre>KeyValuePair&lt;String,Object&gt;[]\r\n",
       "Label: True\r\n",
       "Text: FUCKING BITCHES THAT ARE READING THIS. JASENM222 SUCKS FAT DICK.FUCKING BITCHES THAT ARE READING THIS. JASENM222 SUCKS FAT DICK.FUCKING BITCHES THAT ARE READING THIS. JASENM222 SUCKS FAT DICK.FUCKING BITCHES THAT ARE READING THIS. JASENM222 SUCKS FAT DICK.FUCKING BITCHES THAT ARE READING THIS. JASENM222 SUCKS FAT DICK.FUCKING BITCHES THAT ARE READING THIS. JASENM222 SUCKS FAT DICK.FUCKING BITCHES THAT ARE READING THIS. JASENM222 SUCKS FAT DICK.FUCKING BITCHES THAT ARE READING THIS. JASENM222 SUCKS FAT DICK.FUCKING BITCHES THAT ARE READING THIS. JASENM222 SUCKS FAT DICK.FUCKING BITCHES THAT ARE READING THIS. JASENM222 SUCKS FAT DICK.FUCKING BITCHES THAT ARE READING THIS. JASENM222 SUCKS FAT DICK.FUCKING BITCHES THAT ARE READING THIS. JASENM222 SUCKS FAT DICK.FUCKING BITCHES THAT ARE READING THIS. JASENM222 SUCKS FAT DICK.FUCKING BITCHES THAT ARE READING THIS. JASENM222 SUCKS FAT DICK.FUCKING BITCHES THAT ARE READING THIS. JASENM222 SUCKS FAT DICK.FUCKING BITCHES THAT ARE READING THIS. JASENM222 SUCKS FAT DICK.FUCKING BITCHES THAT ARE READING THIS. JASENM222 SUCKS FAT DICK.FUCKING BITCHES THAT ARE READING THIS. JASENM222 SUCKS FAT DICK.FUCKING BITCHES THAT ARE READING THIS. JASENM222 SUCKS FAT DICK.FUCKING BITCHES THAT ARE READING THIS. JASENM222 SUCKS FAT DICK.FUCKING BITCHES THAT ARE READING THIS. JASENM222 SUCKS FAT DICK.FUCKING BITCHES THAT ARE READING THIS. JASENM222 SUCKS FAT DICK.FUCKING BITCHES THAT ARE READING THIS. JASENM222 SUCKS FAT DICK.FUCKING BITCHES THAT ARE READING THIS. JASENM222 SUCKS FAT DICK.FUCKING BITCHES THAT ARE READING THIS. JASENM222 SUCKS FAT DICK.FUCKING BITCHES THAT ARE READING THIS. JASENM222 SUCKS FAT DICK.FUCKING BITCHES THAT ARE READING THIS. JASENM222 SUCKS FAT DICK.FUCKING BITCHES THAT ARE READING THIS. JASENM222 SUCKS FAT DICK.FUCKING BITCHES THAT ARE READING THIS. JASENM222 SUCKS FAT DICK.FUCKING BITCHES THAT ARE READING THIS. JASENM222 SUCKS FAT DICK.FUCKING BITCHES THAT ARE READING THIS. JASENM222 SUCKS FAT DICK.FUCKING BITCHES THAT ARE READING THIS. JASENM222 SUCKS FAT DICK.FUCKING BITCHES THAT ARE READING THIS. JASENM222 SUCKS FAT DICK.FUCKING BITCHES THAT ARE READING THIS. JASENM222 SUCKS FAT DICK.FUCKING BITCHES THAT ARE READING THIS. JASENM222 SUCKS FAT DICK.FUCKING BITCHES THAT ARE READING THIS. JASENM222 SUCKS FAT DICK.FUCKING BITCHES THAT ARE READING THIS. JASENM222 SUCKS FAT DICK.FUCKING BITCHES THAT ARE READING THIS. JASENM222 SUCKS FAT DICK.FUCKING BITCHES THAT ARE READING THIS. JASENM222 SUCKS FAT DICK.FUCKING BITCHES THAT ARE READING THIS. JASENM222 SUCKS FAT DICK.FUCKING BITCHES THAT ARE READING THIS. JASENM222 SUCKS FAT DICK.FUCKING BITCHES THAT ARE READING THIS. JASENM222 SUCKS FAT DICK.FUCKING BITCHES THAT ARE READING THIS. JASENM222 SUCKS FAT DICK.FUCKING BITCHES THAT ARE READING THIS. JASENM222 SUCKS FAT DICK.FUCKING BITCHES THAT ARE READING THIS. JASENM222 SUCKS FAT DICK.FUCKING BITCHES THAT ARE READING THIS. JASENM222 SUCKS FAT DICK.FUCKING BITCHES THAT ARE READING THIS. JASENM222 SUCKS FAT DICK.FUCKING BITCHES THAT ARE READING THIS. JASENM222 SUCKS FAT DICK.FUCKING BITCHES THAT ARE READING THIS. JASENM222 SUCKS FAT DICK.FUCKING BITCHES THAT ARE READING THIS. JASENM222 SUCKS FAT DICK.FUCKING BITCHES THAT ARE READING THIS. JASENM222 SUCKS FAT DICK.FUCKING BITCHES THAT ARE READING THIS. JASENM222 SUCKS FAT DICK.FUCKING BITCHES THAT ARE READING THIS. JASENM222 SUCKS FAT DICK.FUCKING BITCHES THAT ARE READING THIS. JASENM222 SUCKS FAT DICK.FUCKING BITCHES THAT ARE READING THIS. JASENM222 SUCKS FAT DICK.FUCKING BITCHES THAT ARE READING THIS. JASENM222 SUCKS FAT DICK.FUCKING BITCHES THAT ARE READING THIS. JASENM222 SUCKS FAT DICK.FUCKING BITCHES THAT ARE READING THIS. JASENM222 SUCKS FAT DICK.FUCKING BITCHES THAT ARE READING THIS. JASENM222 SUCKS FAT DICK.FUCKING BITCHES THAT ARE READING THIS. JASENM222 SUCKS FAT DICK.FUCKING BITCHES THAT ARE READING THIS. JASENM222 SUCKS FAT DICK.FUCKING BITCHES THAT ARE READING THIS. JASENM222 SUCKS FAT DICK.FUCKING BITCHES THAT ARE READING THIS. JASENM222 SUCKS FAT DICK.FUCKING BITCHES THAT ARE READING THIS. JASENM222 SUCKS FAT DICK.FUCKING BITCHES THAT ARE READING THIS. JASENM222 SUCKS FAT DICK.FUCKING BITCHES THAT ARE READING THIS. JASENM222 SUCKS FAT DICK.FUCKING BITCHES THAT ARE READING THIS. JASENM222 SUCKS FAT DICK.FUCKING BITCHES THAT ARE READING THIS. JASENM222 SUCKS FAT DICK.FUCKING BITCHES THAT ARE READING THIS. JASENM222 SUCKS FAT DICK.FUCKING BITCHES THAT ARE READING THIS. JASENM222 SUCKS FAT DICK.FUCKING BITCHES THAT ARE READING THIS. JASENM222 SUCKS FAT DICK.FUCKING BITCHES THAT ARE READING THIS. JASENM222 SUCKS FAT DICK.FUCKING BITCHES THAT ARE READING THIS. JASENM222 SUCKS FAT DICK.FUCKING BITCHES THAT ARE READING THIS. JASENM222 SUCKS FAT DICK.FUCKING BITCHES THAT ARE READING THIS. JASENM222 SUCKS FAT DICK.FUCKING BITCHES THAT ARE READING THIS. JASENM222 SUCKS FAT DICK.FUCKING BITCHES THAT ARE READING THIS. JASENM222 SUCKS FAT DICK.FUCKING BITCHES THAT ARE READING THIS. JASENM222 SUCKS FAT DICK.FUCKING </pre></div></td></tr><tr><td>6</td><td><div class=\"dni-plaintext\"><pre>KeyValuePair&lt;String,Object&gt;[]\r\n",
       "Label: False\r\n",
       "Text: :Yes.  I&#39;m doing it often enough, I&#39;ll have to create a redirect.  —    </pre></div></td></tr><tr><td>7</td><td><div class=\"dni-plaintext\"><pre>KeyValuePair&lt;String,Object&gt;[]\r\n",
       "Label: False\r\n",
       "Text: So... the proof there was a massacre rather than a lack of planning as indicated by overwhelming evidence is that Joachim Pieper&#39;s troops killed other people? By that definition all armies in the world are responsible for every massacre throughout history. Also, IHR is respecable as a source, it publishes a peer reviewed magazine which is sometimes used under google scholar, just look it up @ scholar.google.com.  </pre></div></td></tr><tr><td>8</td><td><div class=\"dni-plaintext\"><pre>KeyValuePair&lt;String,Object&gt;[]\r\n",
       "Label: False\r\n",
       "Text: Mccready, I strongly advise you to take Jim Butler&#39;s words to heart.  He&#39;s pointing out the very same problems with your editing that others have pointed out before.  If someone disagrees with your edit, do not just keep putting it back.  Continued biased editing and excessive reverts can be grounds for a disruption block.  We have a high degree of tolerance here,  but continuing to try the community&#39;s patience is a bad thing.      </pre></div></td></tr><tr><td>9</td><td><div class=\"dni-plaintext\"><pre>KeyValuePair&lt;String,Object&gt;[]\r\n",
       "Label: False\r\n",
       "Text: == Please help me to stop my page being deleted == Hi I do not want my wiki page (The Celestial hunt) to be deleted. Please help me and tell me fixes about the page.</pre></div></td></tr></tbody></table><style>\r\n",
       ".dni-code-hint {\r\n",
       "    font-style: italic;\r\n",
       "    overflow: hidden;\r\n",
       "    white-space: nowrap;\r\n",
       "}\r\n",
       ".dni-treeview {\r\n",
       "    white-space: nowrap;\r\n",
       "}\r\n",
       ".dni-treeview td {\r\n",
       "    vertical-align: top;\r\n",
       "    text-align: start;\r\n",
       "}\r\n",
       "details.dni-treeview {\r\n",
       "    padding-left: 1em;\r\n",
       "}\r\n",
       "table td {\r\n",
       "    text-align: start;\r\n",
       "}\r\n",
       "table tr { \r\n",
       "    vertical-align: top; \r\n",
       "    margin: 0em 0px;\r\n",
       "}\r\n",
       "table tr td pre \r\n",
       "{ \r\n",
       "    vertical-align: top !important; \r\n",
       "    margin: 0em 0px !important;\r\n",
       "} \r\n",
       "table th {\r\n",
       "    text-align: start;\r\n",
       "}\r\n",
       "</style>"
      ]
     },
     "metadata": {},
     "output_type": "display_data"
    }
   ],
   "source": [
    "display(testData.Preview(10).RowView);"
   ]
  },
  {
   "cell_type": "code",
   "execution_count": 11,
   "metadata": {
    "dotnet_interactive": {
     "language": "csharp"
    }
   },
   "outputs": [],
   "source": [
    "// STEP 2: Common data process configuration with pipeline data transformations          \n",
    "var dataProcessPipeline = mlContext.Transforms.Text.FeaturizeText(\n",
    "    outputColumnName: \"Features\", \n",
    "    inputColumnName: nameof(SentimentIssue.Text));"
   ]
  },
  {
   "cell_type": "code",
   "execution_count": 12,
   "metadata": {
    "dotnet_interactive": {
     "language": "csharp"
    }
   },
   "outputs": [],
   "source": [
    "// STEP 3: Set the training algorithm, then create and config the modelBuilder                            \n",
    "var trainer = mlContext.BinaryClassification.Trainers.SdcaLogisticRegression(labelColumnName: \"Label\", featureColumnName: \"Features\");\n",
    "var trainingPipeline = dataProcessPipeline.Append(trainer);"
   ]
  },
  {
   "cell_type": "code",
   "execution_count": 13,
   "metadata": {
    "dotnet_interactive": {
     "language": "csharp"
    }
   },
   "outputs": [],
   "source": [
    "// STEP 4: Train the model fitting to the DataSet\n",
    "var trainedModel = trainingPipeline.Fit(trainingData);"
   ]
  },
  {
   "cell_type": "code",
   "execution_count": 14,
   "metadata": {
    "dotnet_interactive": {
     "language": "csharp"
    }
   },
   "outputs": [
    {
     "data": {
      "text/html": [
       "<table><thead><tr><th><i>index</i></th><th><i>type</i></th><th>FeatureColumnName</th><th>FeatureColumnType</th><th>Model</th></tr></thead><tbody><tr><td>0</td><td><span><a href=\"https://docs.microsoft.com/dotnet/api/microsoft.ml.transforms.text.textfeaturizingestimator.transformer?view=net-7.0\">Microsoft.ML.Transforms.Text.TextFeaturizingEstimator+Transformer</a></span></td><td></td><td></td><td></td></tr><tr><td>1</td><td><span><a href=\"https://docs.microsoft.com/dotnet/api/microsoft.ml.data.binarypredictiontransformer-1?view=net-7.0\">Microsoft.ML.Data.BinaryPredictionTransformer&lt;Microsoft.ML.Calibrators.CalibratedModelParametersBase&lt;Microsoft.ML.Trainers.LinearBinaryModelParameters,Microsoft.ML.Calibrators.PlattCalibrator&gt;&gt;</a></span></td><td>Features</td><td><table><thead><tr><th>Dimensions</th><th>IsKnownSize</th><th>ItemType</th><th>Size</th><th>RawType</th></tr></thead><tbody><tr><td><div class=\"dni-plaintext\"><pre>[ 1018635 ]</pre></div></td><td><div class=\"dni-plaintext\"><pre>True</pre></div></td><td><div class=\"dni-plaintext\"><pre>NumberDataViewType\r\n",
       "      RawType: System.Single</pre></div></td><td><div class=\"dni-plaintext\"><pre>1018635</pre></div></td><td><div class=\"dni-plaintext\"><pre>Microsoft.ML.Data.VBuffer&lt;System.Single&gt;</pre></div></td></tr></tbody></table></td><td><table><thead><tr><th>SubModel</th><th>Calibrator</th><th>SubModel</th><th>Calibrator</th></tr></thead><tbody><tr><td><div class=\"dni-plaintext\"><pre>Microsoft.ML.Calibrators.ParameterMixingCalibratedModelParameters`2[Microsoft.ML.Trainers.LinearBinaryModelParameters,Microsoft.ML.Calibrators.PlattCalibrator]</pre></div></td><td><div class=\"dni-plaintext\"><pre>Microsoft.ML.Calibrators.ParameterMixingCalibratedModelParameters`2[Microsoft.ML.Trainers.LinearBinaryModelParameters,Microsoft.ML.Calibrators.PlattCalibrator]</pre></div></td><td><div class=\"dni-plaintext\"><pre>Microsoft.ML.Calibrators.ParameterMixingCalibratedModelParameters`2[Microsoft.ML.Trainers.LinearBinaryModelParameters,Microsoft.ML.Calibrators.PlattCalibrator]</pre></div></td><td><div class=\"dni-plaintext\"><pre>Microsoft.ML.Calibrators.ParameterMixingCalibratedModelParameters`2[Microsoft.ML.Trainers.LinearBinaryModelParameters,Microsoft.ML.Calibrators.PlattCalibrator]</pre></div></td></tr></tbody></table></td></tr></tbody></table><style>\r\n",
       ".dni-code-hint {\r\n",
       "    font-style: italic;\r\n",
       "    overflow: hidden;\r\n",
       "    white-space: nowrap;\r\n",
       "}\r\n",
       ".dni-treeview {\r\n",
       "    white-space: nowrap;\r\n",
       "}\r\n",
       ".dni-treeview td {\r\n",
       "    vertical-align: top;\r\n",
       "    text-align: start;\r\n",
       "}\r\n",
       "details.dni-treeview {\r\n",
       "    padding-left: 1em;\r\n",
       "}\r\n",
       "table td {\r\n",
       "    text-align: start;\r\n",
       "}\r\n",
       "table tr { \r\n",
       "    vertical-align: top; \r\n",
       "    margin: 0em 0px;\r\n",
       "}\r\n",
       "table tr td pre \r\n",
       "{ \r\n",
       "    vertical-align: top !important; \r\n",
       "    margin: 0em 0px !important;\r\n",
       "} \r\n",
       "table th {\r\n",
       "    text-align: start;\r\n",
       "}\r\n",
       "</style>"
      ]
     },
     "metadata": {},
     "output_type": "display_data"
    }
   ],
   "source": [
    "display(trainedModel);"
   ]
  },
  {
   "cell_type": "code",
   "execution_count": 15,
   "metadata": {
    "dotnet_interactive": {
     "language": "csharp"
    }
   },
   "outputs": [],
   "source": [
    "// STEP 5: Evaluate the model and show accuracy stats\n",
    "var predictions = trainedModel.Transform(testData);\n",
    "var metrics = mlContext.BinaryClassification.Evaluate(data: predictions, labelColumnName: \"Label\", scoreColumnName: \"Score\");"
   ]
  },
  {
   "cell_type": "code",
   "execution_count": 16,
   "metadata": {
    "dotnet_interactive": {
     "language": "csharp"
    }
   },
   "outputs": [
    {
     "data": {
      "text/plain": [
       "Microsoft.ML.Trainers.SdcaLogisticRegressionBinaryTrainer"
      ]
     },
     "metadata": {},
     "output_type": "display_data"
    }
   ],
   "source": [
    "display(trainer.ToString())"
   ]
  },
  {
   "cell_type": "code",
   "execution_count": 17,
   "metadata": {
    "dotnet_interactive": {
     "language": "csharp"
    }
   },
   "outputs": [
    {
     "data": {
      "text/html": [
       "<table><thead><tr><th>LogLoss</th><th>LogLossReduction</th><th>Entropy</th><th>AreaUnderRocCurve</th><th>Accuracy</th><th>PositivePrecision</th><th>PositiveRecall</th><th>NegativePrecision</th><th>NegativeRecall</th><th>F1Score</th><th>AreaUnderPrecisionRecallCurve</th><th>ConfusionMatrix</th></tr></thead><tbody><tr><td><div class=\"dni-plaintext\"><pre>0.22242490696157863</pre></div></td><td><div class=\"dni-plaintext\"><pre>0.532475826253963</pre></div></td><td><div class=\"dni-plaintext\"><pre>0.47575060168418515</pre></div></td><td><div class=\"dni-plaintext\"><pre>0.9465779892260632</pre></div></td><td><div class=\"dni-plaintext\"><pre>0.9461883408071748</pre></div></td><td><div class=\"dni-plaintext\"><pre>0.9369369369369369</pre></div></td><td><div class=\"dni-plaintext\"><pre>0.5073170731707317</pre></div></td><td><div class=\"dni-plaintext\"><pre>0.9467299578059072</pre></div></td><td><div class=\"dni-plaintext\"><pre>0.9961154273029966</pre></div></td><td><div class=\"dni-plaintext\"><pre>0.6582278481012658</pre></div></td><td><div class=\"dni-plaintext\"><pre>0.7916849357061797</pre></div></td><td><div class=\"dni-plaintext\"><pre>ConfusionMatrix\r\n",
       "      PerClassPrecision: [ 0.9369369369369369, 0.9467299578059072 ]\r\n",
       "      PerClassRecall: [ 0.5073170731707317, 0.9961154273029966 ]\r\n",
       "      Counts: ReadOnlyCollection&lt;IReadOnlyList&lt;Double&gt;&gt;\r\n",
       "[ 416, 404 ]\r\n",
       "[ 28, 7180 ]\r\n",
       "      NumberOfClasses: 2</pre></div></td></tr></tbody></table><style>\r\n",
       ".dni-code-hint {\r\n",
       "    font-style: italic;\r\n",
       "    overflow: hidden;\r\n",
       "    white-space: nowrap;\r\n",
       "}\r\n",
       ".dni-treeview {\r\n",
       "    white-space: nowrap;\r\n",
       "}\r\n",
       ".dni-treeview td {\r\n",
       "    vertical-align: top;\r\n",
       "    text-align: start;\r\n",
       "}\r\n",
       "details.dni-treeview {\r\n",
       "    padding-left: 1em;\r\n",
       "}\r\n",
       "table td {\r\n",
       "    text-align: start;\r\n",
       "}\r\n",
       "table tr { \r\n",
       "    vertical-align: top; \r\n",
       "    margin: 0em 0px;\r\n",
       "}\r\n",
       "table tr td pre \r\n",
       "{ \r\n",
       "    vertical-align: top !important; \r\n",
       "    margin: 0em 0px !important;\r\n",
       "} \r\n",
       "table th {\r\n",
       "    text-align: start;\r\n",
       "}\r\n",
       "</style>"
      ]
     },
     "metadata": {},
     "output_type": "display_data"
    }
   ],
   "source": [
    "display(metrics);"
   ]
  },
  {
   "cell_type": "code",
   "execution_count": 22,
   "metadata": {
    "dotnet_interactive": {
     "language": "csharp"
    }
   },
   "outputs": [],
   "source": [
    "SentimentIssue sampleStatement = new SentimentIssue { Text = \"Your service is wonderful.  Thank you.\" };"
   ]
  },
  {
   "cell_type": "code",
   "execution_count": 19,
   "metadata": {
    "dotnet_interactive": {
     "language": "csharp"
    }
   },
   "outputs": [],
   "source": [
    "var predictionEngine = mlContext.Model.CreatePredictionEngine<SentimentIssue, SentimentPrediction>(trainedModel);"
   ]
  },
  {
   "cell_type": "code",
   "execution_count": 23,
   "metadata": {
    "dotnet_interactive": {
     "language": "csharp"
    }
   },
   "outputs": [],
   "source": [
    "var prediction = predictionEngine.Predict(sampleStatement);"
   ]
  },
  {
   "cell_type": "code",
   "execution_count": 24,
   "metadata": {
    "dotnet_interactive": {
     "language": "csharp"
    }
   },
   "outputs": [
    {
     "data": {
      "text/html": [
       "<table><thead><tr><th>Prediction</th><th>Probability</th><th>Score</th><th>Label</th><th>Text</th></tr></thead><tbody><tr><td><div class=\"dni-plaintext\"><pre>False</pre></div></td><td><div class=\"dni-plaintext\"><pre>0.16967155</pre></div></td><td><div class=\"dni-plaintext\"><pre>-1.5879568</pre></div></td><td><div class=\"dni-plaintext\"><pre>False</pre></div></td><td><div class=\"dni-plaintext\"><pre>Your service is wonderful.  Thank you.</pre></div></td></tr></tbody></table><style>\r\n",
       ".dni-code-hint {\r\n",
       "    font-style: italic;\r\n",
       "    overflow: hidden;\r\n",
       "    white-space: nowrap;\r\n",
       "}\r\n",
       ".dni-treeview {\r\n",
       "    white-space: nowrap;\r\n",
       "}\r\n",
       ".dni-treeview td {\r\n",
       "    vertical-align: top;\r\n",
       "    text-align: start;\r\n",
       "}\r\n",
       "details.dni-treeview {\r\n",
       "    padding-left: 1em;\r\n",
       "}\r\n",
       "table td {\r\n",
       "    text-align: start;\r\n",
       "}\r\n",
       "table tr { \r\n",
       "    vertical-align: top; \r\n",
       "    margin: 0em 0px;\r\n",
       "}\r\n",
       "table tr td pre \r\n",
       "{ \r\n",
       "    vertical-align: top !important; \r\n",
       "    margin: 0em 0px !important;\r\n",
       "} \r\n",
       "table th {\r\n",
       "    text-align: start;\r\n",
       "}\r\n",
       "</style>"
      ]
     },
     "metadata": {},
     "output_type": "display_data"
    }
   ],
   "source": [
    "display(prediction);"
   ]
  },
  {
   "cell_type": "code",
   "execution_count": null,
   "metadata": {
    "dotnet_interactive": {
     "language": "csharp"
    }
   },
   "outputs": [],
   "source": []
  }
 ],
 "metadata": {
  "kernelspec": {
   "display_name": ".NET (C#)",
   "language": "C#",
   "name": ".net-csharp"
  },
  "polyglot_notebook": {
   "kernelInfo": {
    "defaultKernelName": "csharp",
    "items": [
     {
      "aliases": [
       "c#",
       "C#"
      ],
      "languageName": "C#",
      "name": "csharp"
     },
     {
      "aliases": [],
      "name": ".NET"
     },
     {
      "aliases": [
       "f#",
       "F#"
      ],
      "languageName": "F#",
      "name": "fsharp"
     },
     {
      "aliases": [],
      "languageName": "HTML",
      "name": "html"
     },
     {
      "aliases": [],
      "languageName": "KQL",
      "name": "kql"
     },
     {
      "aliases": [],
      "languageName": "Mermaid",
      "name": "mermaid"
     },
     {
      "aliases": [
       "powershell"
      ],
      "languageName": "PowerShell",
      "name": "pwsh"
     },
     {
      "aliases": [],
      "languageName": "SQL",
      "name": "sql"
     },
     {
      "aliases": [],
      "name": "value"
     },
     {
      "aliases": [
       "frontend"
      ],
      "name": "vscode"
     }
    ]
   }
  }
 },
 "nbformat": 4,
 "nbformat_minor": 2
}
